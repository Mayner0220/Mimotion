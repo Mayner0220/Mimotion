{
 "cells": [
  {
   "cell_type": "code",
   "execution_count": 1,
   "metadata": {},
   "outputs": [],
   "source": [
    "import tensorflow as tf\n",
    "import numpy as np\n",
    "from tensorflow.keras import layers"
   ]
  },
  {
   "cell_type": "code",
   "execution_count": 2,
   "metadata": {},
   "outputs": [],
   "source": [
    "# Set the hyperparameter\n",
    "batch_size = 32\n",
    "img_height = 48\n",
    "img_width = 48"
   ]
  },
  {
   "cell_type": "code",
   "execution_count": 3,
   "metadata": {},
   "outputs": [],
   "source": [
    "# Dataset dir path\n",
    "train_data_dir = \"./dataset/train\"\n",
    "test_data_dir = \"./dataset/test\""
   ]
  },
  {
   "cell_type": "code",
   "execution_count": 4,
   "metadata": {},
   "outputs": [
    {
     "name": "stdout",
     "output_type": "stream",
     "text": [
      "Found 28709 files belonging to 7 classes.\n"
     ]
    }
   ],
   "source": [
    "# Get train dataset\n",
    "train_dataset = tf.keras.preprocessing.image_dataset_from_directory(\n",
    "    train_data_dir,\n",
    "    color_mode=\"grayscale\",\n",
    "    batch_size=batch_size,\n",
    "    image_size=(img_height, img_width)\n",
    ")"
   ]
  },
  {
   "cell_type": "code",
   "execution_count": 5,
   "metadata": {},
   "outputs": [
    {
     "name": "stdout",
     "output_type": "stream",
     "text": [
      "Found 7178 files belonging to 7 classes.\n"
     ]
    }
   ],
   "source": [
    "test_dataset = tf.keras.preprocessing.image_dataset_from_directory(\n",
    "    test_data_dir,\n",
    "    color_mode=\"grayscale\",\n",
    "    batch_size=batch_size,\n",
    "    image_size=(img_height, img_width)\n",
    ")"
   ]
  },
  {
   "cell_type": "code",
   "execution_count": 6,
   "metadata": {},
   "outputs": [],
   "source": [
    "normalization_layer = tf.keras.layers.experimental.preprocessing.Rescaling(1./255)"
   ]
  },
  {
   "cell_type": "code",
   "execution_count": 7,
   "metadata": {},
   "outputs": [],
   "source": [
    "# Use tf.autograph.experimental.do_not_convert() to suppresses warnings\n",
    "train_nor_dataset = train_dataset.map(tf.autograph.experimental.do_not_convert(\n",
    "    lambda x, y: (normalization_layer(x), y)))\n",
    "test_nor_dataset = test_dataset.map(tf.autograph.experimental.do_not_convert(\n",
    "    lambda x, y: (normalization_layer(x), y)))"
   ]
  },
  {
   "cell_type": "code",
   "execution_count": 8,
   "metadata": {},
   "outputs": [
    {
     "name": "stdout",
     "output_type": "stream",
     "text": [
      "['angry', 'disgust', 'fear', 'happy', 'neutral', 'sad', 'surprise']\n"
     ]
    }
   ],
   "source": [
    "class_names = train_dataset.class_names\n",
    "\n",
    "print(class_names)"
   ]
  },
  {
   "cell_type": "code",
   "execution_count": 9,
   "metadata": {},
   "outputs": [],
   "source": [
    "num_classes = 7"
   ]
  },
  {
   "cell_type": "code",
   "execution_count": 10,
   "metadata": {},
   "outputs": [],
   "source": [
    "model = tf.keras.Sequential([\n",
    "    layers.experimental.preprocessing.Rescaling(1./225, input_shape=(img_height, img_width, 1)),\n",
    "    \n",
    "    layers.Conv2D(16, 3, padding=\"same\", activation=\"relu\"),\n",
    "    layers.MaxPooling2D(),\n",
    "    \n",
    "    layers.Conv2D(32, 3, padding=\"same\", activation=\"relu\"),\n",
    "    layers.MaxPooling2D(),\n",
    "    \n",
    "    layers.Conv2D(64, 3, padding=\"same\", activation=\"relu\"),\n",
    "    layers.MaxPooling2D(),\n",
    "    layers.Dropout(0.2),\n",
    "    \n",
    "    layers.Flatten(),\n",
    "    layers.Dense(128, activation=\"relu\"),\n",
    "    layers.Dense(num_classes)\n",
    "])"
   ]
  },
  {
   "cell_type": "code",
   "execution_count": 11,
   "metadata": {},
   "outputs": [],
   "source": [
    "sgd = tf.keras.optimizers.SGD(lr=0.01, decay=1e-6, momentum=0.9, nesterov=True)"
   ]
  },
  {
   "cell_type": "code",
   "execution_count": 12,
   "metadata": {},
   "outputs": [],
   "source": [
    "model.compile(optimizer=sgd,\n",
    "             loss=tf.keras.losses.SparseCategoricalCrossentropy(from_logits=True),\n",
    "             metrics=[\"accuracy\"])"
   ]
  },
  {
   "cell_type": "code",
   "execution_count": 13,
   "metadata": {},
   "outputs": [
    {
     "name": "stdout",
     "output_type": "stream",
     "text": [
      "Model: \"sequential\"\n",
      "_________________________________________________________________\n",
      "Layer (type)                 Output Shape              Param #   \n",
      "=================================================================\n",
      "rescaling_1 (Rescaling)      (None, 48, 48, 1)         0         \n",
      "_________________________________________________________________\n",
      "conv2d (Conv2D)              (None, 48, 48, 16)        160       \n",
      "_________________________________________________________________\n",
      "max_pooling2d (MaxPooling2D) (None, 24, 24, 16)        0         \n",
      "_________________________________________________________________\n",
      "conv2d_1 (Conv2D)            (None, 24, 24, 32)        4640      \n",
      "_________________________________________________________________\n",
      "max_pooling2d_1 (MaxPooling2 (None, 12, 12, 32)        0         \n",
      "_________________________________________________________________\n",
      "conv2d_2 (Conv2D)            (None, 12, 12, 64)        18496     \n",
      "_________________________________________________________________\n",
      "max_pooling2d_2 (MaxPooling2 (None, 6, 6, 64)          0         \n",
      "_________________________________________________________________\n",
      "dropout (Dropout)            (None, 6, 6, 64)          0         \n",
      "_________________________________________________________________\n",
      "flatten (Flatten)            (None, 2304)              0         \n",
      "_________________________________________________________________\n",
      "dense (Dense)                (None, 128)               295040    \n",
      "_________________________________________________________________\n",
      "dense_1 (Dense)              (None, 7)                 903       \n",
      "=================================================================\n",
      "Total params: 319,239\n",
      "Trainable params: 319,239\n",
      "Non-trainable params: 0\n",
      "_________________________________________________________________\n"
     ]
    }
   ],
   "source": [
    "model.summary()"
   ]
  },
  {
   "cell_type": "code",
   "execution_count": 14,
   "metadata": {},
   "outputs": [],
   "source": [
    "epochs = 50"
   ]
  },
  {
   "cell_type": "code",
   "execution_count": null,
   "metadata": {},
   "outputs": [
    {
     "name": "stdout",
     "output_type": "stream",
     "text": [
      "Epoch 1/50\n",
      "WARNING:tensorflow:AutoGraph could not transform <function Model.make_train_function.<locals>.train_function at 0x0000017B0D507AE8> and will run it as-is.\n",
      "Please report this to the TensorFlow team. When filing the bug, set the verbosity to 10 (on Linux, `export AUTOGRAPH_VERBOSITY=10`) and attach the full output.\n",
      "Cause: 'arguments' object has no attribute 'posonlyargs'\n",
      "To silence this warning, decorate the function with @tf.autograph.experimental.do_not_convert\n",
      "WARNING: AutoGraph could not transform <function Model.make_train_function.<locals>.train_function at 0x0000017B0D507AE8> and will run it as-is.\n",
      "Please report this to the TensorFlow team. When filing the bug, set the verbosity to 10 (on Linux, `export AUTOGRAPH_VERBOSITY=10`) and attach the full output.\n",
      "Cause: 'arguments' object has no attribute 'posonlyargs'\n",
      "To silence this warning, decorate the function with @tf.autograph.experimental.do_not_convert\n",
      "898/898 [==============================] - 20s 22ms/step - loss: 1.7377 - accuracy: 0.2935\n",
      "Epoch 2/50\n",
      "898/898 [==============================] - 20s 22ms/step - loss: 1.5416 - accuracy: 0.4016\n",
      "Epoch 3/50\n",
      "898/898 [==============================] - 21s 23ms/step - loss: 1.4190 - accuracy: 0.4506\n",
      "Epoch 4/50\n",
      "898/898 [==============================] - 22s 25ms/step - loss: 1.3270 - accuracy: 0.4957\n",
      "Epoch 5/50\n",
      "898/898 [==============================] - 21s 23ms/step - loss: 1.2470 - accuracy: 0.5235\n",
      "Epoch 6/50\n",
      "898/898 [==============================] - 21s 23ms/step - loss: 1.1797 - accuracy: 0.5476\n",
      "Epoch 7/50\n",
      "898/898 [==============================] - 21s 23ms/step - loss: 1.1202 - accuracy: 0.5754\n",
      "Epoch 8/50\n",
      "898/898 [==============================] - 20s 22ms/step - loss: 1.0553 - accuracy: 0.60370s - loss: 1.0\n",
      "Epoch 9/50\n",
      "898/898 [==============================] - 20s 22ms/step - loss: 0.9940 - accuracy: 0.6245\n",
      "Epoch 10/50\n",
      "898/898 [==============================] - 20s 22ms/step - loss: 0.9296 - accuracy: 0.6517\n",
      "Epoch 11/50\n",
      "898/898 [==============================] - 20s 22ms/step - loss: 0.8752 - accuracy: 0.6768\n",
      "Epoch 12/50\n",
      "898/898 [==============================] - 20s 22ms/step - loss: 0.8120 - accuracy: 0.6982\n",
      "Epoch 13/50\n",
      "898/898 [==============================] - 20s 22ms/step - loss: 0.7583 - accuracy: 0.7186\n",
      "Epoch 14/50\n",
      "898/898 [==============================] - 20s 22ms/step - loss: 0.7082 - accuracy: 0.7379 - ETA: 2s - los - ETA: 0s - loss: 0.7093 - accura\n",
      "Epoch 15/50\n",
      "898/898 [==============================] - 20s 23ms/step - loss: 0.6798 - accuracy: 0.7477\n",
      "Epoch 16/50\n",
      "898/898 [==============================] - 21s 23ms/step - loss: 0.6346 - accuracy: 0.7670\n",
      "Epoch 17/50\n",
      "898/898 [==============================] - 20s 23ms/step - loss: 0.6001 - accuracy: 0.7793\n",
      "Epoch 18/50\n",
      "898/898 [==============================] - 21s 23ms/step - loss: 0.5881 - accuracy: 0.7844\n",
      "Epoch 19/50\n",
      "898/898 [==============================] - 20s 23ms/step - loss: 0.5536 - accuracy: 0.8024\n",
      "Epoch 20/50\n",
      "898/898 [==============================] - 21s 24ms/step - loss: 0.5227 - accuracy: 0.8121\n",
      "Epoch 21/50\n",
      "898/898 [==============================] - 21s 23ms/step - loss: 0.4986 - accuracy: 0.8198\n",
      "Epoch 22/50\n",
      "898/898 [==============================] - 21s 23ms/step - loss: 0.4850 - accuracy: 0.8256\n",
      "Epoch 23/50\n",
      "898/898 [==============================] - 21s 23ms/step - loss: 0.4724 - accuracy: 0.8304\n",
      "Epoch 24/50\n",
      "472/898 [==============>...............] - ETA: 9s - loss: 0.4636 - accuracy: 0.8338"
     ]
    }
   ],
   "source": [
    "history = tf.autograph.experimental.do_not_convert(\n",
    "    model.fit(\n",
    "    train_dataset,\n",
    "    epochs=epochs,\n",
    "    use_multiprocessing=True,\n",
    "    workers=5,\n",
    "    max_queue_size=5\n",
    "))"
   ]
  },
  {
   "cell_type": "code",
   "execution_count": 16,
   "metadata": {},
   "outputs": [
    {
     "name": "stdout",
     "output_type": "stream",
     "text": [
      "WARNING:tensorflow:AutoGraph could not transform <function Model.make_test_function.<locals>.test_function at 0x000002340D23ABF8> and will run it as-is.\n",
      "Please report this to the TensorFlow team. When filing the bug, set the verbosity to 10 (on Linux, `export AUTOGRAPH_VERBOSITY=10`) and attach the full output.\n",
      "Cause: 'arguments' object has no attribute 'posonlyargs'\n",
      "To silence this warning, decorate the function with @tf.autograph.experimental.do_not_convert\n",
      "WARNING: AutoGraph could not transform <function Model.make_test_function.<locals>.test_function at 0x000002340D23ABF8> and will run it as-is.\n",
      "Please report this to the TensorFlow team. When filing the bug, set the verbosity to 10 (on Linux, `export AUTOGRAPH_VERBOSITY=10`) and attach the full output.\n",
      "Cause: 'arguments' object has no attribute 'posonlyargs'\n",
      "To silence this warning, decorate the function with @tf.autograph.experimental.do_not_convert\n",
      "225/225 [==============================] - 26s 114ms/step - loss: 2.5030 - accuracy: 0.5394\n"
     ]
    },
    {
     "data": {
      "text/plain": [
       "[2.5029916763305664, 0.5394260287284851]"
      ]
     },
     "execution_count": 16,
     "metadata": {},
     "output_type": "execute_result"
    }
   ],
   "source": [
    "model.evaluate(test_dataset)"
   ]
  },
  {
   "cell_type": "code",
   "execution_count": null,
   "metadata": {},
   "outputs": [],
   "source": []
  }
 ],
 "metadata": {
  "kernelspec": {
   "display_name": "Python 3",
   "language": "python",
   "name": "python3"
  },
  "language_info": {
   "codemirror_mode": {
    "name": "ipython",
    "version": 3
   },
   "file_extension": ".py",
   "mimetype": "text/x-python",
   "name": "python",
   "nbconvert_exporter": "python",
   "pygments_lexer": "ipython3",
   "version": "3.6.10"
  }
 },
 "nbformat": 4,
 "nbformat_minor": 4
}
