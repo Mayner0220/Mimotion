{
 "cells": [
  {
   "cell_type": "code",
   "execution_count": 2,
   "metadata": {},
   "outputs": [],
   "source": [
    "import os\n",
    "import tensorflow as tf\n",
    "import import_ipynb"
   ]
  },
  {
   "cell_type": "code",
   "execution_count": 8,
   "metadata": {},
   "outputs": [],
   "source": [
    "from datetime import datetime\n",
    "from tensorflow.keras.optimizers import SGD\n",
    "from tensorflow.keras import layers, Sequential\n",
    "from data_preprocessing import train_ds, test_ds\n",
    "from tensorflow.keras.callbacks import ReduceLROnPlateau, ModelCheckpoint, TensorBoard, EarlyStopping"
   ]
  },
  {
   "cell_type": "code",
   "execution_count": 5,
   "metadata": {},
   "outputs": [],
   "source": [
    "num_classes = 7"
   ]
  },
  {
   "cell_type": "code",
   "execution_count": 6,
   "metadata": {},
   "outputs": [],
   "source": [
    "model = Sequential([\n",
    "    layers.Conv2D(32, (3, 3), padding=\"same\", activation=\"relu\"),\n",
    "    layers.MaxPooling2D(pool_size=(2, 2)),\n",
    "    layers.Dropout(0.2),\n",
    "    \n",
    "    layers.Conv2D(64, (3, 3), padding=\"same\", activation=\"relu\"),\n",
    "    layers.MaxPooling2D(pool_size=(2, 2)),\n",
    "    layers.Dropout(0.2),\n",
    "    \n",
    "    layers.Conv2D(128, (3, 3), padding=\"same\", activation=\"relu\"),\n",
    "    layers.MaxPooling2D(pool_size=(2, 2)),\n",
    "    layers.Dropout(0.2),\n",
    "    \n",
    "    layers.Flatten(),\n",
    "    layers.Dense(256, activation=\"relu\"),\n",
    "    layers.Dropout(0.2),\n",
    "    \n",
    "    layers.Dense(num_classes, activation=\"softmax\")\n",
    "])"
   ]
  },
  {
   "cell_type": "code",
   "execution_count": 10,
   "metadata": {},
   "outputs": [],
   "source": [
    "sgd = SGD(lr=0.01, decay=1e-6, momentum=0.9, nesterov=True)"
   ]
  },
  {
   "cell_type": "code",
   "execution_count": 11,
   "metadata": {},
   "outputs": [],
   "source": [
    "model.compile(optimizer=sgd, loss=tf.losses.SparseCategoricalCrossentropy(from_logits=True), metrics=[\"accuracy\"])"
   ]
  },
  {
   "cell_type": "code",
   "execution_count": null,
   "metadata": {},
   "outputs": [
    {
     "name": "stdout",
     "output_type": "stream",
     "text": [
      "Epoch 1/10\n",
      "WARNING:tensorflow:AutoGraph could not transform <function Model.make_train_function.<locals>.train_function at 0x000002B38C134F28> and will run it as-is.\n",
      "Please report this to the TensorFlow team. When filing the bug, set the verbosity to 10 (on Linux, `export AUTOGRAPH_VERBOSITY=10`) and attach the full output.\n",
      "Cause: 'arguments' object has no attribute 'posonlyargs'\n",
      "To silence this warning, decorate the function with @tf.autograph.experimental.do_not_convert\n",
      "WARNING: AutoGraph could not transform <function Model.make_train_function.<locals>.train_function at 0x000002B38C134F28> and will run it as-is.\n",
      "Please report this to the TensorFlow team. When filing the bug, set the verbosity to 10 (on Linux, `export AUTOGRAPH_VERBOSITY=10`) and attach the full output.\n",
      "Cause: 'arguments' object has no attribute 'posonlyargs'\n",
      "To silence this warning, decorate the function with @tf.autograph.experimental.do_not_convert\n",
      "718/718 [==============================] - 12s 17ms/step - loss: 2.1498 - accuracy: 0.0157\n",
      "Epoch 2/10\n",
      "718/718 [==============================] - 6s 9ms/step - loss: 2.1502 - accuracy: 0.0154\n",
      "Epoch 3/10\n",
      "718/718 [==============================] - 6s 9ms/step - loss: 2.1502 - accuracy: 0.0154: 5s - loss: 2.1530 - accura - ETA: 5s - loss: 2.1531 - accura - ETA: 4s - loss: 2.1529 - accuracy - ETA: 4s - loss: 2.1 - ETA: 4s - loss: 2.152 - ETA: 3s - loss: 2.1516 - accuracy:  - ETA: 3s - loss: 2.1 - ETA: 2s - loss: 2.1501 - accuracy:  - ETA: 2s - - ETA: 1s - loss: 2.1499 - accu - ETA: 0s - loss: 2.1502 - accuracy: 0.01 - ETA: 0s - loss: 2.1503 - ac\n",
      "Epoch 4/10\n",
      "718/718 [==============================] - 6s 9ms/step - loss: 2.1502 - accuracy: 0.0154: 0s - loss: 2.1504 - accuracy - ETA: 0s - loss: 2.1502 - accu - ETA: 0s - loss: 2.1500 - accuracy: \n",
      "Epoch 5/10\n",
      "718/718 [==============================] - 6s 9ms/step - loss: 2.1502 - accuracy: 0.0154: 5s - loss: 2.1527 - ac - ETA: 5s - loss: 2.1530 -  - E - ETA: 0s - loss: 2.1502 - accura\n",
      "Epoch 6/10\n",
      "718/718 [==============================] - 6s 9ms/step - loss: 2.1502 - accuracy: 0.0154: 1s - loss: 2.1501 - accu - ETA: 0s - loss: 2.1503 - accura - ETA: 0s - loss: 2.1\n",
      "Epoch 7/10\n",
      "488/718 [===================>..........] - ETA: 2s - loss: 2.1495 - accuracy: 0.0161"
     ]
    }
   ],
   "source": [
    "model.fit(train_ds, epochs=10,\n",
    "         use_multiprocessing=True,\n",
    "         workers=5,\n",
    "         max_queue_size=5)"
   ]
  },
  {
   "cell_type": "code",
   "execution_count": null,
   "metadata": {},
   "outputs": [],
   "source": []
  }
 ],
 "metadata": {
  "kernelspec": {
   "display_name": "Python 3",
   "language": "python",
   "name": "python3"
  },
  "language_info": {
   "codemirror_mode": {
    "name": "ipython",
    "version": 3
   },
   "file_extension": ".py",
   "mimetype": "text/x-python",
   "name": "python",
   "nbconvert_exporter": "python",
   "pygments_lexer": "ipython3",
   "version": "3.6.10"
  }
 },
 "nbformat": 4,
 "nbformat_minor": 4
}
