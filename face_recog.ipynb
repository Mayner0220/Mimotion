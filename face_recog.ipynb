{
 "cells": [
  {
   "cell_type": "code",
   "execution_count": 2,
   "metadata": {},
   "outputs": [],
   "source": [
    "# face_recognition library: https://github.com/ageitgey/face_recognition\n",
    "# Reference: https://github.com/ageitgey/face_recognition/blob/master/examples/facerec_from_webcam_faster.py\n",
    "\n",
    "import face_recognition as FR\n",
    "from tensorflow import test\n",
    "import cv2"
   ]
  },
  {
   "cell_type": "code",
   "execution_count": 4,
   "metadata": {},
   "outputs": [],
   "source": [
    "def gpu_test():\n",
    "    # GPU available test\n",
    "    if test.is_gpu_available():\n",
    "        print(\"CUDA Status: available\")\n",
    "        # gpu_available = True\n",
    "        return True\n",
    "    else:\n",
    "        print(\"CUDA Status: unavailable\")\n",
    "        return False"
   ]
  },
  {
   "cell_type": "code",
   "execution_count": 5,
   "metadata": {},
   "outputs": [
    {
     "name": "stdout",
     "output_type": "stream",
     "text": [
      "WARNING:tensorflow:From <ipython-input-4-7131c54bd9d7>:3: is_gpu_available (from tensorflow.python.framework.test_util) is deprecated and will be removed in a future version.\n",
      "Instructions for updating:\n",
      "Use `tf.config.list_physical_devices('GPU')` instead.\n",
      "CUDA Status: available\n"
     ]
    }
   ],
   "source": [
    "# Get a reference to webcam #0\n",
    "# If the file is processed with the code below, a warning related to MSMF will be generated.\n",
    "# capture = cv2.VideoCapture(0)\n",
    "capture = cv2.VideoCapture(cv2.CAP_DSHOW)\n",
    "\n",
    "# Set the size of capture\n",
    "capture.set(3, 480)\n",
    "capture.set(4, 480)\n",
    "\n",
    "gpu = gpu_test()\n",
    "\n",
    "# gpu_available = False\n",
    "process_this_frame = True"
   ]
  },
  {
   "cell_type": "code",
   "execution_count": 6,
   "metadata": {},
   "outputs": [],
   "source": [
    "while True:\n",
    "    # Grab a single frame of capture\n",
    "    ret, frame = capture.read()\n",
    "\n",
    "    # frame left and right reversion\n",
    "    frame = cv2.flip(frame, 1)\n",
    "\n",
    "    # Resize frame of capture to 1/4 size\n",
    "    # For faster face recognition prcoessing\n",
    "    small_frame = cv2.resize(frame, (0, 0), fx=0.25, fy=0.25)\n",
    "\n",
    "    # Convert the image from BGR color to RGB color\n",
    "    rgb_small_frame = small_frame[:, :, ::-1]\n",
    "\n",
    "    if process_this_frame:\n",
    "        # Find all faces and face encodings in the current frame of video\n",
    "        # It will be developed to determine whether the CNN model will be used or not,\n",
    "        # depending on the user's use of CUDA.\n",
    "\n",
    "        if gpu:\n",
    "            # CUDA available\n",
    "            face_locations = FR.face_locations(rgb_small_frame, model=\"cnn\")\n",
    "        else:\n",
    "            # CUDA unavailable\n",
    "            face_locations = FR.face_locations(rgb_small_frame)\n",
    "\n",
    "        face_encodings = FR.face_encodings(rgb_small_frame, face_locations)\n",
    "\n",
    "    process_this_frame = not process_this_frame\n",
    "\n",
    "    # Display the results\n",
    "    for (top, right, bottom, left) in face_locations:\n",
    "        # Scale back up face location\n",
    "        # The frame we detected in was scaled to 1/4 size\n",
    "        top *= 4\n",
    "        right *= 4\n",
    "        bottom *= 4\n",
    "        left *= 4\n",
    "\n",
    "        # Draw a box around the face\n",
    "        # Rectangle's color: teal - RGB(128, 128, 000)\n",
    "        cv2.rectangle(frame, (left, top), (right, bottom), (128, 128, 0), 2)\n",
    "\n",
    "    # Display the result image\n",
    "    cv2.imshow(\"Face Recognition\", frame)\n",
    "\n",
    "    # # Return True if face is recognized.\n",
    "    # def face_check():\n",
    "    #     if face_locations:\n",
    "    #         return True\n",
    "\n",
    "    # Push the 'q' key on keyboard to quit\n",
    "    if cv2.waitKey(1) & 0xFF == ord(\"q\"):\n",
    "        break\n",
    "\n",
    "# Release handle to the webcam\n",
    "capture.release()\n",
    "cv2.destroyAllWindows()\n",
    "\n",
    "\n",
    "# This code will later be converted to a code\n",
    "# that returns whether or not your face has been recognized."
   ]
  },
  {
   "cell_type": "code",
   "execution_count": null,
   "metadata": {},
   "outputs": [],
   "source": []
  }
 ],
 "metadata": {
  "kernelspec": {
   "display_name": "Python 3",
   "language": "python",
   "name": "python3"
  },
  "language_info": {
   "codemirror_mode": {
    "name": "ipython",
    "version": 3
   },
   "file_extension": ".py",
   "mimetype": "text/x-python",
   "name": "python",
   "nbconvert_exporter": "python",
   "pygments_lexer": "ipython3",
   "version": "3.6.10"
  }
 },
 "nbformat": 4,
 "nbformat_minor": 4
}
