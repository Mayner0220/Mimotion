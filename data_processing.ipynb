{
 "cells": [
  {
   "cell_type": "code",
   "execution_count": 1,
   "metadata": {},
   "outputs": [],
   "source": [
    "import tensorflow as tf\n",
    "import numpy as np\n",
    "from tensorflow.keras import layers"
   ]
  },
  {
   "cell_type": "code",
   "execution_count": 2,
   "metadata": {},
   "outputs": [],
   "source": [
    "# Set the hyperparameter\n",
    "batch_size = 32\n",
    "img_height = 48\n",
    "img_width = 48"
   ]
  },
  {
   "cell_type": "code",
   "execution_count": 3,
   "metadata": {},
   "outputs": [],
   "source": [
    "# Dataset dir path\n",
    "train_data_dir = \"./dataset/train\"\n",
    "test_data_dir = \"./dataset/test\""
   ]
  },
  {
   "cell_type": "code",
   "execution_count": 4,
   "metadata": {},
   "outputs": [
    {
     "name": "stdout",
     "output_type": "stream",
     "text": [
      "Found 28709 files belonging to 7 classes.\n"
     ]
    }
   ],
   "source": [
    "# Get train dataset\n",
    "train_dataset = tf.keras.preprocessing.image_dataset_from_directory(\n",
    "    train_data_dir,\n",
    "    color_mode=\"grayscale\",\n",
    "    batch_size=batch_size,\n",
    "    image_size=(img_height, img_width)\n",
    ")"
   ]
  },
  {
   "cell_type": "code",
   "execution_count": 5,
   "metadata": {},
   "outputs": [
    {
     "name": "stdout",
     "output_type": "stream",
     "text": [
      "Found 7178 files belonging to 7 classes.\n"
     ]
    }
   ],
   "source": [
    "test_dataset = tf.keras.preprocessing.image_dataset_from_directory(\n",
    "    test_data_dir,\n",
    "    color_mode=\"grayscale\",\n",
    "    batch_size=batch_size,\n",
    "    image_size=(img_height, img_width)\n",
    ")"
   ]
  },
  {
   "cell_type": "code",
   "execution_count": 6,
   "metadata": {},
   "outputs": [],
   "source": [
    "normalization_layer = tf.keras.layers.experimental.preprocessing.Rescaling(1./255)"
   ]
  },
  {
   "cell_type": "code",
   "execution_count": 7,
   "metadata": {},
   "outputs": [],
   "source": [
    "# Use tf.autograph.experimental.do_not_convert() to suppresses warnings\n",
    "train_nor_dataset = train_dataset.map(tf.autograph.experimental.do_not_convert(\n",
    "    lambda x, y: (normalization_layer(x), y)))\n",
    "test_nor_dataset = test_dataset.map(tf.autograph.experimental.do_not_convert(\n",
    "    lambda x, y: (normalization_layer(x), y)))"
   ]
  },
  {
   "cell_type": "code",
   "execution_count": 8,
   "metadata": {},
   "outputs": [
    {
     "name": "stdout",
     "output_type": "stream",
     "text": [
      "['angry', 'disgust', 'fear', 'happy', 'neutral', 'sad', 'surprise']\n"
     ]
    }
   ],
   "source": [
    "class_names = train_dataset.class_names\n",
    "\n",
    "print(class_names)"
   ]
  },
  {
   "cell_type": "code",
   "execution_count": 9,
   "metadata": {},
   "outputs": [],
   "source": [
    "num_classes = 7"
   ]
  },
  {
   "cell_type": "code",
   "execution_count": 10,
   "metadata": {},
   "outputs": [],
   "source": [
    "model = tf.keras.Sequential([\n",
    "    layers.experimental.preprocessing.Rescaling(1./225, input_shape=(img_height, img_width, 1)),\n",
    "    \n",
    "    layers.Conv2D(16, 3, padding=\"same\", activation=\"relu\"),\n",
    "    layers.MaxPooling2D(),\n",
    "    \n",
    "    layers.Conv2D(32, 3, padding=\"same\", activation=\"relu\"),\n",
    "    layers.MaxPooling2D(),\n",
    "    \n",
    "    layers.Conv2D(64, 3, padding=\"same\", activation=\"relu\"),\n",
    "    layers.MaxPooling2D(),\n",
    "    layers.Dropout(0.2),\n",
    "    \n",
    "    layers.Flatten(),\n",
    "    layers.Dense(128, activation=\"relu\"),\n",
    "    layers.Dense(num_classes)\n",
    "])"
   ]
  },
  {
   "cell_type": "code",
   "execution_count": 11,
   "metadata": {},
   "outputs": [],
   "source": [
    "model.compile(optimizer=\"adam\",\n",
    "             loss=tf.keras.losses.SparseCategoricalCrossentropy(from_logits=True),\n",
    "             metrics=[\"accuracy\"])"
   ]
  },
  {
   "cell_type": "code",
   "execution_count": 12,
   "metadata": {},
   "outputs": [
    {
     "name": "stdout",
     "output_type": "stream",
     "text": [
      "Model: \"sequential\"\n",
      "_________________________________________________________________\n",
      "Layer (type)                 Output Shape              Param #   \n",
      "=================================================================\n",
      "rescaling_1 (Rescaling)      (None, 48, 48, 1)         0         \n",
      "_________________________________________________________________\n",
      "conv2d (Conv2D)              (None, 48, 48, 16)        160       \n",
      "_________________________________________________________________\n",
      "max_pooling2d (MaxPooling2D) (None, 24, 24, 16)        0         \n",
      "_________________________________________________________________\n",
      "conv2d_1 (Conv2D)            (None, 24, 24, 32)        4640      \n",
      "_________________________________________________________________\n",
      "max_pooling2d_1 (MaxPooling2 (None, 12, 12, 32)        0         \n",
      "_________________________________________________________________\n",
      "conv2d_2 (Conv2D)            (None, 12, 12, 64)        18496     \n",
      "_________________________________________________________________\n",
      "max_pooling2d_2 (MaxPooling2 (None, 6, 6, 64)          0         \n",
      "_________________________________________________________________\n",
      "dropout (Dropout)            (None, 6, 6, 64)          0         \n",
      "_________________________________________________________________\n",
      "flatten (Flatten)            (None, 2304)              0         \n",
      "_________________________________________________________________\n",
      "dense (Dense)                (None, 128)               295040    \n",
      "_________________________________________________________________\n",
      "dense_1 (Dense)              (None, 7)                 903       \n",
      "=================================================================\n",
      "Total params: 319,239\n",
      "Trainable params: 319,239\n",
      "Non-trainable params: 0\n",
      "_________________________________________________________________\n"
     ]
    }
   ],
   "source": [
    "model.summary()"
   ]
  },
  {
   "cell_type": "code",
   "execution_count": 13,
   "metadata": {},
   "outputs": [],
   "source": [
    "epochs = 50"
   ]
  },
  {
   "cell_type": "code",
   "execution_count": 15,
   "metadata": {},
   "outputs": [
    {
     "name": "stdout",
     "output_type": "stream",
     "text": [
      "Epoch 1/50\n",
      "WARNING:tensorflow:AutoGraph could not transform <function Model.make_train_function.<locals>.train_function at 0x00000233395BF488> and will run it as-is.\n",
      "Please report this to the TensorFlow team. When filing the bug, set the verbosity to 10 (on Linux, `export AUTOGRAPH_VERBOSITY=10`) and attach the full output.\n",
      "Cause: 'arguments' object has no attribute 'posonlyargs'\n",
      "To silence this warning, decorate the function with @tf.autograph.experimental.do_not_convert\n",
      "WARNING: AutoGraph could not transform <function Model.make_train_function.<locals>.train_function at 0x00000233395BF488> and will run it as-is.\n",
      "Please report this to the TensorFlow team. When filing the bug, set the verbosity to 10 (on Linux, `export AUTOGRAPH_VERBOSITY=10`) and attach the full output.\n",
      "Cause: 'arguments' object has no attribute 'posonlyargs'\n",
      "To silence this warning, decorate the function with @tf.autograph.experimental.do_not_convert\n",
      "898/898 [==============================] - 40s 45ms/step - loss: 1.6487 - accuracy: 0.3483\n",
      "Epoch 2/50\n",
      "898/898 [==============================] - 21s 23ms/step - loss: 1.4165 - accuracy: 0.4570\n",
      "Epoch 3/50\n",
      "898/898 [==============================] - 20s 22ms/step - loss: 1.3036 - accuracy: 0.50222s - loss: 1.3 - - ETA: 0s - loss: 1.3\n",
      "Epoch 4/50\n",
      "898/898 [==============================] - 20s 22ms/step - loss: 1.2225 - accuracy: 0.5370\n",
      "Epoch 5/50\n",
      "898/898 [==============================] - 20s 22ms/step - loss: 1.1570 - accuracy: 0.55920s - loss: 1.1\n",
      "Epoch 6/50\n",
      "898/898 [==============================] - 20s 22ms/step - loss: 1.0925 - accuracy: 0.59182s - loss: 1\n",
      "Epoch 7/50\n",
      "898/898 [==============================] - 20s 22ms/step - loss: 1.0426 - accuracy: 0.6078: 18s - loss: 1.0751 - accuracy: 0.60 - ETA: 18s - loss: 1 - ETA: 17s - loss: 1.045 - ETA: 16s - loss:  - ETA: 14s - loss: 1.0585 - accura - ETA: 13s - loss: 1.0608 - a - ETA: 7s - loss: 1.0563 - accuracy: 0.60 - ETA: 6s - loss: 1.0559 - ac - ETA: 6s - loss: 1.0560  - ETA: 5s - los - ETA: 4s - loss: 1.0514 - accuracy: 0. - ETA: 4s - loss: 1.0523  - ETA: 4s - loss: 1.0513 - accuracy:  - - ETA: 1s\n",
      "Epoch 8/50\n",
      "898/898 [==============================] - 20s 22ms/step - loss: 0.9837 - accuracy: 0.6315: 18s - loss: 1.0029 - accuracy: 0 - ETA: 17s - loss: 1.0060 - ac - ETA: 17s - loss: 0.9942 - ac - ETA: 16s - loss: 1.0073 - accuracy: 0.62 - ETA: 16s - loss: 1.0079 - accura - ETA: 15s - loss: 1.0094 - accuracy: 0.6 - ETA: 15s - loss: 1.0053 - acc - ETA: 11s - loss:  - ETA: \n",
      "Epoch 9/50\n",
      "898/898 [==============================] - 20s 22ms/step - loss: 0.9297 - accuracy: 0.6544\n",
      "Epoch 10/50\n",
      "898/898 [==============================] - 20s 22ms/step - loss: 0.8818 - accuracy: 0.67281s - los - ETA: 0s - loss: 0.8823 - accuracy: \n",
      "Epoch 11/50\n",
      "898/898 [==============================] - 20s 22ms/step - loss: 0.8311 - accuracy: 0.6934 - ETA: 16s - l - ETA: 14s - loss: 0.8496 - accuracy: 0.682 - ETA: 14s - ETA: 9s - l - E - ETA: 7s - loss: - ETA: 0s - loss: 0.8321 - accura - ETA: 0s - loss: 0.8310 - accu\n",
      "Epoch 12/50\n",
      "898/898 [==============================] - 20s 22ms/step - loss: 0.7792 - accuracy: 0.7113: 16s - loss: 0.8041 - accuracy: 0.\n",
      "Epoch 13/50\n",
      "898/898 [==============================] - 20s 22ms/step - loss: 0.7373 - accuracy: 0.7292\n",
      "Epoch 14/50\n",
      "898/898 [==============================] - 20s 22ms/step - loss: 0.7012 - accuracy: 0.73870s - loss: 0.7021 - accuracy: 0.\n",
      "Epoch 15/50\n",
      "898/898 [==============================] - 20s 22ms/step - loss: 0.6658 - accuracy: 0.7542: 17s - loss: 0.7018 - accur - ETA: 17s -  - ETA: 15s - loss: 0.\n",
      "Epoch 16/50\n",
      "898/898 [==============================] - 20s 22ms/step - loss: 0.6261 - accuracy: 0.76850s - loss: 0.6278 - \n",
      "Epoch 17/50\n",
      "898/898 [==============================] - 19s 22ms/step - loss: 0.5973 - accuracy: 0.77910s - loss: 0.5975 - accuracy: 0.\n",
      "Epoch 18/50\n",
      "898/898 [==============================] - 20s 22ms/step - loss: 0.5638 - accuracy: 0.7908 3s - loss: 0.5676 - accuracy:  - ETA:  - ETA: 1s - loss: 0 - ETA: 0s - loss: 0\n",
      "Epoch 19/50\n",
      "898/898 [==============================] - 20s 22ms/step - loss: 0.5430 - accuracy: 0.7995\n",
      "Epoch 20/50\n",
      "898/898 [==============================] - 20s 22ms/step - loss: 0.5164 - accuracy: 0.8102: 18s - loss: 0.6069 - accuracy - ETA: 18s - loss: 0. - ETA: 6s - - ETA: 3s - loss: 0.5215 - accura - ETA: 2s - loss: 0.5183 - \n",
      "Epoch 21/50\n",
      "898/898 [==============================] - 20s 22ms/step - loss: 0.4859 - accuracy: 0.8181: 18 - ETA: 10s  - - ETA: 2s - loss: 0.487 -\n",
      "Epoch 22/50\n",
      "898/898 [==============================] - 20s 22ms/step - loss: 0.4664 - accuracy: 0.82795s - - ETA\n",
      "Epoch 23/50\n",
      "898/898 [==============================] - 20s 22ms/step - loss: 0.4503 - accuracy: 0.8341 ETA: 2s - loss: 0.4545 - accuracy:  - ETA: 2s - l - ETA: 1s - loss: 0.4509 - accu - ETA\n",
      "Epoch 24/50\n",
      "898/898 [==============================] - 20s 22ms/step - loss: 0.4316 - accuracy: 0.84207s - loss: 0.4466 - accura - ETA: 7s - los - ETA: 6s - loss: 0 - ETA: 5s\n",
      "Epoch 25/50\n",
      "898/898 [==============================] - 20s 22ms/step - loss: 0.4139 - accuracy: 0.8505\n",
      "Epoch 26/50\n",
      "898/898 [==============================] - 20s 23ms/step - loss: 0.4035 - accuracy: 0.8512\n",
      "Epoch 27/50\n",
      "898/898 [==============================] - 20s 23ms/step - loss: 0.3848 - accuracy: 0.8598\n",
      "Epoch 28/50\n",
      "898/898 [==============================] - 20s 22ms/step - loss: 0.3712 - accuracy: 0.8630\n",
      "Epoch 29/50\n",
      "898/898 [==============================] - 20s 22ms/step - loss: 0.3672 - accuracy: 0.8679\n",
      "Epoch 30/50\n",
      "898/898 [==============================] - 20s 22ms/step - loss: 0.3472 - accuracy: 0.8743\n",
      "Epoch 31/50\n",
      "898/898 [==============================] - 20s 22ms/step - loss: 0.3507 - accuracy: 0.8734\n",
      "Epoch 32/50\n",
      "898/898 [==============================] - 20s 22ms/step - loss: 0.3298 - accuracy: 0.8831\n",
      "Epoch 33/50\n",
      "898/898 [==============================] - 21s 23ms/step - loss: 0.3228 - accuracy: 0.8837: \n",
      "Epoch 34/50\n",
      "898/898 [==============================] - 20s 23ms/step - loss: 0.3122 - accuracy: 0.8881\n",
      "Epoch 35/50\n",
      "898/898 [==============================] - 20s 22ms/step - loss: 0.3127 - accuracy: 0.88660s - loss: 0.3130 - \n",
      "Epoch 36/50\n",
      "898/898 [==============================] - 20s 22ms/step - loss: 0.2952 - accuracy: 0.89462s - loss: 0.2961 - ac - ETA: 2s - loss: - E\n",
      "Epoch 37/50\n",
      "898/898 [==============================] - 20s 22ms/step - loss: 0.2956 - accuracy: 0.8933\n",
      "Epoch 38/50\n",
      "898/898 [==============================] - 20s 22ms/step - loss: 0.2815 - accuracy: 0.8993\n",
      "Epoch 39/50\n",
      "898/898 [==============================] - 20s 22ms/step - loss: 0.2746 - accuracy: 0.9025: 14s - loss: 0.2 - ETA: 1s -\n",
      "Epoch 40/50\n",
      "898/898 [==============================] - 20s 22ms/step - loss: 0.2706 - accuracy: 0.90295s - loss: 0.2708 - accuracy - ETA - ETA: 2s - loss: 0.2\n",
      "Epoch 41/50\n",
      "898/898 [==============================] - 20s 22ms/step - loss: 0.2657 - accuracy: 0.90441s\n",
      "Epoch 42/50\n",
      "898/898 [==============================] - 20s 22ms/step - loss: 0.2595 - accuracy: 0.90701s - loss:\n",
      "Epoch 43/50\n",
      "898/898 [==============================] - 20s 22ms/step - loss: 0.2626 - accuracy: 0.90650s - loss: 0\n",
      "Epoch 44/50\n",
      "898/898 [==============================] - 20s 22ms/step - loss: 0.2521 - accuracy: 0.9109\n",
      "Epoch 45/50\n",
      "898/898 [==============================] - 20s 22ms/step - loss: 0.2422 - accuracy: 0.9145: 15 - ETA: 2s - loss: 0.2397 - ac - ETA: 2s - loss: 0.2417 \n",
      "Epoch 46/50\n",
      "898/898 [==============================] - 20s 22ms/step - loss: 0.2404 - accuracy: 0.9130\n",
      "Epoch 47/50\n",
      "898/898 [==============================] - 20s 22ms/step - loss: 0.2431 - accuracy: 0.91322s - loss: 0.2445 - accura - ETA: 2s - loss: 0 - ETA: 1s - loss: 0.2 - ETA: 1s - l\n",
      "Epoch 48/50\n",
      "898/898 [==============================] - 20s 22ms/step - loss: 0.2420 - accuracy: 0.9162\n",
      "Epoch 49/50\n",
      "898/898 [==============================] - 20s 22ms/step - loss: 0.2291 - accuracy: 0.9179\n",
      "Epoch 50/50\n",
      "898/898 [==============================] - 20s 22ms/step - loss: 0.2239 - accuracy: 0.91950s - loss: 0.2229 - accuracy: 0. - ETA: 0s - loss: 0.2236 - accuracy: 0.\n"
     ]
    }
   ],
   "source": [
    "history = tf.autograph.experimental.do_not_convert(\n",
    "    model.fit(\n",
    "    train_dataset,\n",
    "    epochs=epochs,\n",
    "    use_multiprocessing=True,\n",
    "    workers=5,\n",
    "    max_queue_size=5\n",
    "))"
   ]
  },
  {
   "cell_type": "code",
   "execution_count": 16,
   "metadata": {},
   "outputs": [
    {
     "name": "stdout",
     "output_type": "stream",
     "text": [
      "WARNING:tensorflow:AutoGraph could not transform <function Model.make_test_function.<locals>.test_function at 0x000002340D23ABF8> and will run it as-is.\n",
      "Please report this to the TensorFlow team. When filing the bug, set the verbosity to 10 (on Linux, `export AUTOGRAPH_VERBOSITY=10`) and attach the full output.\n",
      "Cause: 'arguments' object has no attribute 'posonlyargs'\n",
      "To silence this warning, decorate the function with @tf.autograph.experimental.do_not_convert\n",
      "WARNING: AutoGraph could not transform <function Model.make_test_function.<locals>.test_function at 0x000002340D23ABF8> and will run it as-is.\n",
      "Please report this to the TensorFlow team. When filing the bug, set the verbosity to 10 (on Linux, `export AUTOGRAPH_VERBOSITY=10`) and attach the full output.\n",
      "Cause: 'arguments' object has no attribute 'posonlyargs'\n",
      "To silence this warning, decorate the function with @tf.autograph.experimental.do_not_convert\n",
      "225/225 [==============================] - 26s 114ms/step - loss: 2.5030 - accuracy: 0.5394\n"
     ]
    },
    {
     "data": {
      "text/plain": [
       "[2.5029916763305664, 0.5394260287284851]"
      ]
     },
     "execution_count": 16,
     "metadata": {},
     "output_type": "execute_result"
    }
   ],
   "source": [
    "model.evaluate(test_dataset)"
   ]
  },
  {
   "cell_type": "code",
   "execution_count": null,
   "metadata": {},
   "outputs": [],
   "source": []
  }
 ],
 "metadata": {
  "kernelspec": {
   "display_name": "Python 3",
   "language": "python",
   "name": "python3"
  },
  "language_info": {
   "codemirror_mode": {
    "name": "ipython",
    "version": 3
   },
   "file_extension": ".py",
   "mimetype": "text/x-python",
   "name": "python",
   "nbconvert_exporter": "python",
   "pygments_lexer": "ipython3",
   "version": "3.6.10"
  }
 },
 "nbformat": 4,
 "nbformat_minor": 4
}
